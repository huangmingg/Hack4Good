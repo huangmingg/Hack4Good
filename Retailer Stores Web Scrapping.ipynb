{
 "cells": [
  {
   "cell_type": "markdown",
   "metadata": {},
   "source": [
    "## Scrapping of outlet information for the 4 major supermarkets in Singapore"
   ]
  },
  {
   "cell_type": "markdown",
   "metadata": {},
   "source": [
    "###### 1) Giant Hypermarket\n",
    "###### 2) Cold Storage \n",
    "###### 3) Sheng Siong\n",
    "###### 4) NTUC Fairprice"
   ]
  },
  {
   "cell_type": "code",
   "execution_count": 1,
   "metadata": {},
   "outputs": [],
   "source": [
    "import requests\n",
    "import re\n",
    "from bs4 import BeautifulSoup\n",
    "import json \n",
    "import numpy as np\n",
    "import pandas as pd\n",
    "from tqdm import tqdm\n",
    "\n",
    "postalCodes = []"
   ]
  },
  {
   "cell_type": "markdown",
   "metadata": {},
   "source": [
    "### 1) Scrapping of Giant Hypermarket Store Locator"
   ]
  },
  {
   "cell_type": "code",
   "execution_count": 2,
   "metadata": {},
   "outputs": [],
   "source": [
    "supermarket_name_1 = \"Giant Hypermart\"\n",
    "page = requests.get(\"https://giant.sg/store-locator\")\n",
    "soup = BeautifulSoup(page.content, 'html.parser')\n",
    "scriptTags = soup.find_all('script', type=\"text/javascript\")\n",
    "\n",
    "scriptContent = []\n",
    "for script in scriptTags:\n",
    "    tagContent = script.get_text()\n",
    "    if \"function initMap()\" in tagContent:\n",
    "        scriptContent = tagContent        \n",
    "        break;    "
   ]
  },
  {
   "cell_type": "code",
   "execution_count": 3,
   "metadata": {},
   "outputs": [],
   "source": [
    "soup2 = BeautifulSoup(scriptContent, 'html.parser')\n",
    "divTags = soup2.find_all('div', {\"class\": \"map-info\"})\n",
    "for item in divTags:\n",
    "    address = item.find('p', {'class': 'value'})\n",
    "    postal_code = address.get_text().split(\" \")[-1]\n",
    "\n",
    "    if (len(postal_code) != 6):\n",
    "        postal_code = postal_code.strip('[\" \", \"(\",\")\",\"S\"]')\n",
    "    postalCodes.append({\"supermarket\" : supermarket_name_1,\"postal_code\" : postal_code})"
   ]
  },
  {
   "cell_type": "markdown",
   "metadata": {},
   "source": [
    "### 2) Scrapping of Cold Storage Store Locator"
   ]
  },
  {
   "cell_type": "code",
   "execution_count": 4,
   "metadata": {},
   "outputs": [],
   "source": [
    "supermarket_name_2 = \"Cold Storage\"\n",
    "page = requests.get(\"https://coldstorage.com.sg/store-locator\")\n",
    "soup = BeautifulSoup(page.content, 'html.parser')\n",
    "scriptTags = soup.find_all('script', type=\"text/javascript\")\n",
    "scriptContent = []\n",
    "for script in scriptTags:\n",
    "    tagContent = script.get_text()\n",
    "    if \"function initMap()\" in tagContent:\n",
    "        scriptContent = tagContent        \n",
    "        break;    "
   ]
  },
  {
   "cell_type": "code",
   "execution_count": 5,
   "metadata": {},
   "outputs": [],
   "source": [
    "soup2 = BeautifulSoup(scriptContent, 'html.parser')\n",
    "divTags = soup2.find_all('div', {\"class\": \"map-info\"})\n",
    "for item in divTags:\n",
    "    address = item.find('p', {'class': 'value'})\n",
    "    postal_code = address.get_text().split(\" \")[-1]\n",
    "\n",
    "    if (len(postal_code) != 6):\n",
    "        postal_code = postal_code.strip('[\" \", \"(\",\")\",\"S\"]')\n",
    "    postalCodes.append({\"supermarket\" : supermarket_name_2,\"postal_code\" : postal_code})"
   ]
  },
  {
   "cell_type": "markdown",
   "metadata": {},
   "source": [
    "### 3) Scrapping of Sheng Siong Store Locator"
   ]
  },
  {
   "cell_type": "code",
   "execution_count": 6,
   "metadata": {},
   "outputs": [],
   "source": [
    "supermarket_name_3 = \"Sheng Siong\"\n",
    "page = requests.get(\"http://www.shengsiong.com.sg/pages/store-locator.html\")\n",
    "soup = BeautifulSoup(page.content, 'html.parser')\n",
    "columns = soup.find_all('td')"
   ]
  },
  {
   "cell_type": "code",
   "execution_count": 7,
   "metadata": {},
   "outputs": [],
   "source": [
    "for column in columns:\n",
    "    outlet = column.find('div', {\"class\" : \"map-location\"})\n",
    "    if (outlet):\n",
    "        tags = outlet.find('a')     \n",
    "        postal_code = tags.next_sibling.next_sibling.next_sibling.next_sibling.next_sibling.next_sibling.split(\" \")[-1]\n",
    "        postal_code = postal_code.strip('[\" \", \"(\",\")\"]')\n",
    "        if (len(postal_code) == 6):\n",
    "            postalCodes.append({\"supermarket\" : supermarket_name_3,\"postal_code\" : postal_code})"
   ]
  },
  {
   "cell_type": "markdown",
   "metadata": {},
   "source": [
    "### 4) Scrapping of NTUC Store Locator"
   ]
  },
  {
   "cell_type": "code",
   "execution_count": 8,
   "metadata": {},
   "outputs": [],
   "source": [
    "supermarket_name_4 = \"NTUC\"\n",
    "url = 'https://www.fairprice.com.sg/store-locator'\n",
    "user_agent = 'Mozilla/5.0 (Macintosh; Intel Mac OS X 10_9_3) AppleWebKit/537.36 (KHTML, like Gecko) Chrome/35.0.1916.47 Safari/537.36'\n",
    "headers = {'User-Agent': user_agent}\n",
    "page = requests.get(url,headers=headers)\n",
    "soup = BeautifulSoup(page.content, 'html.parser')"
   ]
  },
  {
   "cell_type": "code",
   "execution_count": 9,
   "metadata": {},
   "outputs": [],
   "source": [
    "string = soup.find(\"script\", {'id' : '__NEXT_DATA__'}).get_text()\n",
    "res = json.loads(string) \n",
    "outlets = res[\"props\"][\"pageProps\"][\"data\"][\"fpstores\"]"
   ]
  },
  {
   "cell_type": "code",
   "execution_count": 10,
   "metadata": {},
   "outputs": [],
   "source": [
    "for outlet in outlets:\n",
    "    postal_code = outlet['postalCode'] \n",
    "    postal_code = postal_code.strip('[\" \", \"(\",\")\",\"S\"]')\n",
    "    if (len(postal_code) == 6):\n",
    "        postalCodes.append({\"supermarket\" : outlet['storeType'],\"postal_code\" : postal_code})"
   ]
  },
  {
   "cell_type": "markdown",
   "metadata": {},
   "source": [
    "### Using OneMap API to retrieve location details"
   ]
  },
  {
   "cell_type": "code",
   "execution_count": 11,
   "metadata": {},
   "outputs": [],
   "source": [
    "def getPostalInfo(postal_code):\n",
    "    request = requests.get(\n",
    "            'https://developers.onemap.sg/commonapi/search?searchVal='+ str(postal_code) + '&returnGeom=Y&getAddrDetails=Y'\n",
    "        )\n",
    "    result = request.json()\n",
    "    return result;"
   ]
  },
  {
   "cell_type": "code",
   "execution_count": 12,
   "metadata": {},
   "outputs": [
    {
     "name": "stderr",
     "output_type": "stream",
     "text": [
      "Retrieving {'supermarket': 'FairPrice', 'postal_code': '310192'} information:   0%|          | 0/317 [07:00<?, ?it/s]        "
     ]
    }
   ],
   "source": [
    "output_df = pd.DataFrame()\n",
    "tq = tqdm(postalCodes)\n",
    "for outlet in postalCodes:\n",
    "    tq.set_description(f\"Retrieving {outlet} information\")\n",
    "    results = getPostalInfo(outlet[\"postal_code\"])['results']\n",
    "    if (results):\n",
    "        rowOutput = {'shop' : outlet['supermarket'], 'location' : results[0]['ROAD_NAME'].title(), 'latitude' : results[0][\"LATITUDE\"],'longitude':results[0][\"LONGITUDE\"]}\n",
    "        output_df = output_df.append(rowOutput, ignore_index=True)\n",
    "        \n",
    "output_df.to_csv(\"retailer.csv\")"
   ]
  }
 ],
 "metadata": {
  "kernelspec": {
   "display_name": "Python 3",
   "language": "python",
   "name": "python3"
  },
  "language_info": {
   "codemirror_mode": {
    "name": "ipython",
    "version": 3
   },
   "file_extension": ".py",
   "mimetype": "text/x-python",
   "name": "python",
   "nbconvert_exporter": "python",
   "pygments_lexer": "ipython3",
   "version": "3.7.4"
  }
 },
 "nbformat": 4,
 "nbformat_minor": 2
}
